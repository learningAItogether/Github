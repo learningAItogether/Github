{
 "cells": [
  {
   "cell_type": "markdown",
   "id": "99499eda",
   "metadata": {},
   "source": [
    "## Git & GitHub使用指南"
   ]
  },
  {
   "cell_type": "markdown",
   "id": "2b400bfa",
   "metadata": {},
   "source": [
    "---"
   ]
  },
  {
   "cell_type": "markdown",
   "id": "39b8250f",
   "metadata": {},
   "source": [
    "#### 介绍"
   ]
  },
  {
   "cell_type": "markdown",
   "id": "e8901bc1",
   "metadata": {},
   "source": [
    "**1. Git & GitHub的发展历史**"
   ]
  },
  {
   "cell_type": "markdown",
   "id": "117ea5c9",
   "metadata": {},
   "source": [
    "Linux 之父 Linus 在 1991 年创建开源的 Linux 操作系统之后，Linus 花了十天时间用 C 语言写好了一个开源的版本控制系统（Version Control System），就是著名的 Git。\n"
   ]
  },
  {
   "cell_type": "markdown",
   "id": "dd6417a8",
   "metadata": {},
   "source": [
    "2007 年旧金山三个年轻人觉得 Git 是个好东西，就搞了一个公司名字叫 GitHub，第二年上线了使用 Ruby 编写的同名网站 GitHub，这是一个基于 Git 的免费代码托管网站（有付费服务）\n",
    "\n",
    "Github被微软收购"
   ]
  },
  {
   "cell_type": "markdown",
   "id": "5c4bd0f2",
   "metadata": {},
   "source": [
    "---"
   ]
  },
  {
   "cell_type": "markdown",
   "id": "55b08867",
   "metadata": {},
   "source": [
    "### Github Desk简单操作"
   ]
  },
  {
   "cell_type": "markdown",
   "id": "d86d4cea",
   "metadata": {},
   "source": [
    "<i class=\"fa fa-arrow-circle-down\" aria-hidden=\"true\"> 教学步骤</i>："
   ]
  },
  {
   "cell_type": "markdown",
   "id": "9fdad6b1",
   "metadata": {},
   "source": [
    "**1. 下载安装Github**"
   ]
  },
  {
   "cell_type": "markdown",
   "id": "88a5e23c",
   "metadata": {},
   "source": [
    "https://desktop.github.com/"
   ]
  },
  {
   "cell_type": "markdown",
   "id": "c36feb59",
   "metadata": {},
   "source": [
    "**2. 注册账号**"
   ]
  },
  {
   "cell_type": "markdown",
   "id": "27c08786",
   "metadata": {},
   "source": [
    "https://github.com/"
   ]
  },
  {
   "cell_type": "markdown",
   "id": "3f75895b",
   "metadata": {},
   "source": [
    "**3. 新建项目** "
   ]
  },
  {
   "cell_type": "markdown",
   "id": "f16ae8d1",
   "metadata": {},
   "source": [
    "启动Github，菜单栏File，选择 New repository，\n",
    "\n",
    "填写Name，选择Local path"
   ]
  },
  {
   "cell_type": "markdown",
   "id": "97c8de34",
   "metadata": {},
   "source": [
    "**4. 文件夹更新项目内容** "
   ]
  },
  {
   "cell_type": "markdown",
   "id": "e19b2749",
   "metadata": {},
   "source": [
    "提交Summit"
   ]
  },
  {
   "cell_type": "markdown",
   "id": "fed80d66",
   "metadata": {},
   "source": [
    "**5. 发布项目** "
   ]
  },
  {
   "cell_type": "markdown",
   "id": "3c4954ac",
   "metadata": {},
   "source": [
    "菜单栏New repository，选择Push "
   ]
  },
  {
   "cell_type": "markdown",
   "id": "50e60f36",
   "metadata": {},
   "source": [
    "---"
   ]
  },
  {
   "cell_type": "markdown",
   "id": "afc97a04",
   "metadata": {},
   "source": [
    "### Git简单操作"
   ]
  },
  {
   "cell_type": "markdown",
   "id": "7667b146",
   "metadata": {},
   "source": [
    "<i class=\"fa fa-arrow-circle-down\" aria-hidden=\"true\"> 教学步骤</i>："
   ]
  },
  {
   "cell_type": "markdown",
   "id": "f303cdc1",
   "metadata": {},
   "source": [
    "**1. Start a project**"
   ]
  },
  {
   "cell_type": "markdown",
   "id": "073ecb38",
   "metadata": {},
   "source": [
    "登录Github，https://github.com/， 点击Start a project"
   ]
  },
  {
   "cell_type": "markdown",
   "id": "916c503b",
   "metadata": {},
   "source": [
    "**2. Create a new repository**"
   ]
  },
  {
   "cell_type": "markdown",
   "id": "8b347281",
   "metadata": {},
   "source": [
    "填写Repository name，选择Public/Private， 点击Create Repository"
   ]
  },
  {
   "cell_type": "markdown",
   "id": "5576dabe",
   "metadata": {},
   "source": [
    "**3. 获取链接**"
   ]
  },
  {
   "cell_type": "markdown",
   "id": "9e4d87f1",
   "metadata": {},
   "source": [
    "https://github.com/sheldonyue/machineLearning.git"
   ]
  },
  {
   "cell_type": "markdown",
   "id": "2272cc20",
   "metadata": {},
   "source": [
    "---"
   ]
  },
  {
   "cell_type": "markdown",
   "id": "35f6cee7",
   "metadata": {},
   "source": [
    "**4. 下载安装Git**"
   ]
  },
  {
   "cell_type": "markdown",
   "id": "4e37c7a9",
   "metadata": {},
   "source": [
    "https://git-scm.com/\n",
    "默认设置，一路Next"
   ]
  },
  {
   "cell_type": "markdown",
   "id": "6a125521",
   "metadata": {},
   "source": [
    "**5. 检查Git安装**"
   ]
  },
  {
   "cell_type": "markdown",
   "id": "3f1f8d16",
   "metadata": {},
   "source": [
    "打开终端Command Prompt，输入git version"
   ]
  },
  {
   "cell_type": "markdown",
   "id": "ffc78984",
   "metadata": {},
   "source": [
    "**6. 创建项目**"
   ]
  },
  {
   "cell_type": "markdown",
   "id": "9e813df2",
   "metadata": {},
   "source": [
    "cd 项目路径 \n",
    "如：D:\\AI\\03RNN\\AI-Writer-project"
   ]
  },
  {
   "cell_type": "markdown",
   "id": "d9686a08",
   "metadata": {},
   "source": [
    "**7. 配置Git**"
   ]
  },
  {
   "cell_type": "markdown",
   "id": "dfd745b9",
   "metadata": {},
   "source": [
    "git config --global user.name 'sheldonyue' \n",
    "\n",
    "git config --global user.email 'sheldonyue@sina.com'"
   ]
  },
  {
   "cell_type": "markdown",
   "id": "14cfcb9e",
   "metadata": {},
   "source": [
    "**7. 检查配置**"
   ]
  },
  {
   "cell_type": "markdown",
   "id": "168c2d2f",
   "metadata": {},
   "source": [
    "git config -l\n",
    "\n",
    "查看最后两行name 和 email"
   ]
  },
  {
   "cell_type": "markdown",
   "id": "22db3f46",
   "metadata": {},
   "source": [
    "---"
   ]
  },
  {
   "cell_type": "markdown",
   "id": "82f486cd",
   "metadata": {},
   "source": [
    "**8. 初始化本地仓库**"
   ]
  },
  {
   "cell_type": "markdown",
   "id": "c6acfc58",
   "metadata": {},
   "source": [
    "git init"
   ]
  },
  {
   "cell_type": "markdown",
   "id": "3ffae38e",
   "metadata": {},
   "source": [
    "**9. 关联远端Git仓库**"
   ]
  },
  {
   "cell_type": "markdown",
   "id": "280ae6bc",
   "metadata": {},
   "source": [
    "git remote add origin https://github.com/sheldonyue/machineLearning.git\n",
    "\n",
    "查看最后两行name 和 email"
   ]
  },
  {
   "cell_type": "markdown",
   "id": "b51832bc",
   "metadata": {},
   "source": [
    "**10. 查看本地项目文件夹变化**"
   ]
  },
  {
   "cell_type": "markdown",
   "id": "228cd360",
   "metadata": {},
   "source": [
    "git status"
   ]
  },
  {
   "cell_type": "markdown",
   "id": "d17ff9ac",
   "metadata": {},
   "source": [
    "**11. 更新本地Git项目**"
   ]
  },
  {
   "cell_type": "markdown",
   "id": "8fc35d53",
   "metadata": {},
   "source": [
    "git add *\n",
    "\n",
    "git commit -m \"first commit\"\n",
    "\n",
    "！注意：必须用双引号"
   ]
  },
  {
   "cell_type": "markdown",
   "id": "aa476c7f",
   "metadata": {},
   "source": [
    "**12. 推送到远端**"
   ]
  },
  {
   "cell_type": "markdown",
   "id": "750600e4",
   "metadata": {},
   "source": [
    "git push -u origin master\n",
    "\n",
    "说明：推送小于100MB的项目"
   ]
  },
  {
   "cell_type": "markdown",
   "id": "034219b1",
   "metadata": {},
   "source": [
    "---"
   ]
  },
  {
   "cell_type": "markdown",
   "id": "e5f6b3ed",
   "metadata": {},
   "source": [
    "### Git-LFS上传大文件"
   ]
  },
  {
   "cell_type": "markdown",
   "id": "c1c64cd5",
   "metadata": {},
   "source": [
    "<i class=\"fa fa-arrow-circle-down\" aria-hidden=\"true\"> 教学步骤</i>："
   ]
  },
  {
   "cell_type": "markdown",
   "id": "992c0f40",
   "metadata": {},
   "source": [
    "**1. 下载文件**"
   ]
  },
  {
   "cell_type": "code",
   "execution_count": null,
   "id": "d36f03bd",
   "metadata": {},
   "outputs": [],
   "source": [
    "https://git-lfs.github.com/"
   ]
  },
  {
   "cell_type": "markdown",
   "id": "f36e6b3f",
   "metadata": {},
   "source": [
    "**2. 安装到git目录下**"
   ]
  },
  {
   "cell_type": "code",
   "execution_count": null,
   "id": "789c0fd4",
   "metadata": {},
   "outputs": [],
   "source": [
    "C:\\Program Files\\Git\\bin\\Git LFS"
   ]
  },
  {
   "cell_type": "markdown",
   "id": "8f5c02f5",
   "metadata": {},
   "source": [
    "**3. 上传大文件**"
   ]
  },
  {
   "cell_type": "code",
   "execution_count": null,
   "id": "075d988f",
   "metadata": {},
   "outputs": [],
   "source": [
    "git init #创建本地仓库环境\n",
    "git lfs install #安装大文件上传应用\n",
    "git lfs track * #追踪要上传的大文件，*表示路径下的所有文件\n",
    "git add .gitattributes #添加先上传的属性文件(要先上传属性文件，不然有可能失败)\n",
    "git commit -m \"pre\" #添加属性文件上传的说明\n",
    "git remote add origin https://github.com/Youpeng-Zhang/MOP.git #建立本地和Github仓库的链接\n",
    "git push origin master #上传属性文件\n",
    "git add * #添加要上传的大文件，*表示路径下的所有文件\n",
    "git commit -m \"Git LFS commit\" #添加大文件上传的说明\n",
    "git push origin master #上传大文件"
   ]
  },
  {
   "cell_type": "markdown",
   "id": "bc56eda5",
   "metadata": {},
   "source": [
    "---"
   ]
  },
  {
   "cell_type": "markdown",
   "id": "d6d91af7",
   "metadata": {},
   "source": [
    "### Github修改他人项目"
   ]
  },
  {
   "cell_type": "markdown",
   "id": "7df51b43",
   "metadata": {},
   "source": [
    "<i class=\"fa fa-arrow-circle-down\" aria-hidden=\"true\"> 教学步骤</i>："
   ]
  },
  {
   "cell_type": "markdown",
   "id": "bc060dea",
   "metadata": {},
   "source": [
    "**1. Fork**"
   ]
  },
  {
   "cell_type": "markdown",
   "id": "1696749f",
   "metadata": {},
   "source": [
    "**2. 修改文件**"
   ]
  },
  {
   "cell_type": "markdown",
   "id": "a6ebc5a3",
   "metadata": {},
   "source": [
    "commit changes"
   ]
  },
  {
   "cell_type": "markdown",
   "id": "c28ef616",
   "metadata": {},
   "source": [
    "**3. 提交修改**"
   ]
  },
  {
   "cell_type": "markdown",
   "id": "6c6ade08",
   "metadata": {},
   "source": [
    "菜单pull request， 点击New pull request， create pull request"
   ]
  },
  {
   "cell_type": "markdown",
   "id": "c8f2da26",
   "metadata": {},
   "source": [
    "**4. 项目创建人收到 Pull request**"
   ]
  },
  {
   "cell_type": "markdown",
   "id": "f2ff9120",
   "metadata": {},
   "source": [
    "Merge pull request，confirm merge"
   ]
  }
 ],
 "metadata": {
  "kernelspec": {
   "display_name": "Python 3 (ipykernel)",
   "language": "python",
   "name": "python3"
  },
  "language_info": {
   "codemirror_mode": {
    "name": "ipython",
    "version": 3
   },
   "file_extension": ".py",
   "mimetype": "text/x-python",
   "name": "python",
   "nbconvert_exporter": "python",
   "pygments_lexer": "ipython3",
   "version": "3.8.10"
  },
  "toc": {
   "base_numbering": 1,
   "nav_menu": {},
   "number_sections": true,
   "sideBar": true,
   "skip_h1_title": false,
   "title_cell": "Table of Contents",
   "title_sidebar": "Contents",
   "toc_cell": false,
   "toc_position": {
    "height": "calc(100% - 180px)",
    "left": "10px",
    "top": "150px",
    "width": "196px"
   },
   "toc_section_display": true,
   "toc_window_display": true
  }
 },
 "nbformat": 4,
 "nbformat_minor": 5
}
