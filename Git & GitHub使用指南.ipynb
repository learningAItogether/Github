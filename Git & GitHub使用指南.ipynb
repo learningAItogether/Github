{
 "cells": [
  {
   "cell_type": "markdown",
   "id": "99499eda",
   "metadata": {},
   "source": [
    "## Git & GitHub使用指南"
   ]
  },
  {
   "cell_type": "markdown",
   "id": "2b400bfa",
   "metadata": {},
   "source": [
    "---"
   ]
  },
  {
   "cell_type": "markdown",
   "id": "39b8250f",
   "metadata": {},
   "source": [
    "#### 介绍"
   ]
  },
  {
   "cell_type": "markdown",
   "id": "e8901bc1",
   "metadata": {},
   "source": [
    "**1. Git & GitHub的发展历史**"
   ]
  },
  {
   "cell_type": "markdown",
   "id": "117ea5c9",
   "metadata": {},
   "source": [
    "Linux 之父 Linus 在 1991 年创建开源的 Linux 操作系统之后，Linus 花了十天时间用 C 语言写好了一个开源的版本控制系统（Version Control System），就是著名的 Git。\n"
   ]
  },
  {
   "cell_type": "markdown",
   "id": "dd6417a8",
   "metadata": {},
   "source": [
    "2007 年旧金山三个年轻人觉得 Git 是个好东西，就搞了一个公司名字叫 GitHub，第二年上线了使用 Ruby 编写的同名网站 GitHub，这是一个基于 Git 的免费代码托管网站（有付费服务）"
   ]
  },
  {
   "cell_type": "markdown",
   "id": "5c4bd0f2",
   "metadata": {},
   "source": [
    "---"
   ]
  },
  {
   "cell_type": "markdown",
   "id": "55b08867",
   "metadata": {},
   "source": [
    "### Github工作流"
   ]
  },
  {
   "cell_type": "markdown",
   "id": "d86d4cea",
   "metadata": {},
   "source": [
    "<i class=\"fa fa-arrow-circle-down\" aria-hidden=\"true\"> 教学步骤</i>："
   ]
  },
  {
   "cell_type": "markdown",
   "id": "9fdad6b1",
   "metadata": {},
   "source": [
    "**1. 下载Github**"
   ]
  },
  {
   "cell_type": "code",
   "execution_count": null,
   "id": "6ac53bdf",
   "metadata": {},
   "outputs": [],
   "source": [
    "https://desktop.github.com/"
   ]
  },
  {
   "cell_type": "markdown",
   "id": "c258dd40",
   "metadata": {},
   "source": [
    "**2. 安装Github**"
   ]
  },
  {
   "cell_type": "markdown",
   "id": "c36feb59",
   "metadata": {},
   "source": [
    "**3. 注册账号**"
   ]
  },
  {
   "cell_type": "code",
   "execution_count": null,
   "id": "e0e38cd3",
   "metadata": {},
   "outputs": [],
   "source": [
    "https://github.com/"
   ]
  },
  {
   "cell_type": "markdown",
   "id": "3f75895b",
   "metadata": {},
   "source": [
    "**4. 新建项目** "
   ]
  },
  {
   "cell_type": "markdown",
   "id": "f16ae8d1",
   "metadata": {},
   "source": [
    "启动Github，菜单栏File，选择 New repository，\n",
    "填写Name，选择Local path"
   ]
  },
  {
   "cell_type": "markdown",
   "id": "97c8de34",
   "metadata": {},
   "source": [
    "**5. 文件夹更新项目内容** "
   ]
  },
  {
   "cell_type": "markdown",
   "id": "e19b2749",
   "metadata": {},
   "source": [
    "提交Summit"
   ]
  },
  {
   "cell_type": "markdown",
   "id": "fed80d66",
   "metadata": {},
   "source": [
    "**6. 发布项目** "
   ]
  },
  {
   "cell_type": "markdown",
   "id": "3c4954ac",
   "metadata": {},
   "source": [
    "菜单栏New repository，选择Push "
   ]
  },
  {
   "cell_type": "markdown",
   "id": "afc97a04",
   "metadata": {},
   "source": [
    "### Github上传大文件"
   ]
  },
  {
   "cell_type": "code",
   "execution_count": null,
   "id": "93fce492",
   "metadata": {},
   "outputs": [],
   "source": []
  },
  {
   "cell_type": "code",
   "execution_count": null,
   "id": "b6da0cb9",
   "metadata": {},
   "outputs": [],
   "source": []
  },
  {
   "cell_type": "code",
   "execution_count": null,
   "id": "66331291",
   "metadata": {},
   "outputs": [],
   "source": []
  }
 ],
 "metadata": {
  "kernelspec": {
   "display_name": "Python 3 (ipykernel)",
   "language": "python",
   "name": "python3"
  },
  "language_info": {
   "codemirror_mode": {
    "name": "ipython",
    "version": 3
   },
   "file_extension": ".py",
   "mimetype": "text/x-python",
   "name": "python",
   "nbconvert_exporter": "python",
   "pygments_lexer": "ipython3",
   "version": "3.9.7"
  },
  "toc": {
   "base_numbering": 1,
   "nav_menu": {},
   "number_sections": true,
   "sideBar": true,
   "skip_h1_title": false,
   "title_cell": "Table of Contents",
   "title_sidebar": "Contents",
   "toc_cell": false,
   "toc_position": {
    "height": "calc(100% - 180px)",
    "left": "10px",
    "top": "150px",
    "width": "194.109px"
   },
   "toc_section_display": true,
   "toc_window_display": true
  }
 },
 "nbformat": 4,
 "nbformat_minor": 5
}
